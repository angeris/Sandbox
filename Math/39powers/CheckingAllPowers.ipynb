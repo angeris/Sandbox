{
 "cells": [
  {
   "cell_type": "code",
   "execution_count": 124,
   "metadata": {
    "collapsed": true
   },
   "outputs": [],
   "source": [
    "from collections import Counter"
   ]
  },
  {
   "cell_type": "markdown",
   "metadata": {},
   "source": [
    "Checking all possible numbers is roughly equivalent to a grouping problem (by a multi-set)\n",
    "\\\\[\n",
    "\\binom{39+10-1}{10-1} \\approx 10^{9}\n",
    "\\\\]\n",
    "which is definitely doable by a computer. If we have ~1000 operations per number, and we have a constant, 1GHz processor, then the total time lies at around $\\sim 10^3$ seconds."
   ]
  },
  {
   "cell_type": "code",
   "execution_count": 125,
   "metadata": {
    "collapsed": true
   },
   "outputs": [],
   "source": [
    "def getPossibleCollections(N, k):\n",
    "    S = []\n",
    "    D = Counter()\n",
    "    _getPossibleCollections(N, k, 0, S, D)\n",
    "    \n",
    "    return S\n",
    "    \n",
    "def _getPossibleCollections(N, k, i, S, curr):\n",
    "    if k < 0:\n",
    "        raise(IndexError(\"A negative value was passed\"))\n",
    "    if i > N:\n",
    "        S.append(curr.copy())\n",
    "        return\n",
    "    if i == N:\n",
    "        curr[str(i)] = k\n",
    "        _getPossibleCollections(N, 0, i+1, S, curr)\n",
    "        return\n",
    "    for L in range(k+1):\n",
    "        curr[str(i)] = L\n",
    "        _getPossibleCollections(N, k-L, i+1, S, curr)\n",
    "    "
   ]
  },
  {
   "cell_type": "code",
   "execution_count": 126,
   "metadata": {
    "collapsed": false
   },
   "outputs": [],
   "source": [
    "def getArmstrongNumbers(K):\n",
    "    # Gets the digit exponentiation (so it doesn't have to be recomputed every time)\n",
    "    digits = [i**K for i in range(10)]\n",
    "\n",
    "    # Gets all of the possible multisets of 9 digits with 5 total elements.\n",
    "    N = getPossibleCollections(9, K)\n",
    "\n",
    "    MATCHES = []\n",
    "    A = Counter()\n",
    "\n",
    "    for S in N:\n",
    "        T = 0\n",
    "        for i in S:\n",
    "            l = int(i)\n",
    "            T += S[i]*digits[l]\n",
    "\n",
    "        if Counter(str(T))-S == A:\n",
    "            MATCHES.append(T)\n",
    "    \n",
    "    return [k for k in MATCHES if len(str(k))==K]"
   ]
  },
  {
   "cell_type": "code",
   "execution_count": 127,
   "metadata": {
    "collapsed": false
   },
   "outputs": [
    {
     "name": "stdout",
     "output_type": "stream",
     "text": [
      "0: []\n",
      "1: [0, 1, 2, 3, 4, 5, 6, 7, 8, 9]\n",
      "2: []\n",
      "3: [153, 370, 371, 407]\n",
      "4: [1634, 8208, 9474]\n",
      "5: [54748, 92727, 93084]\n",
      "6: [548834]\n",
      "7: [1741725, 4210818, 9800817, 9926315]\n",
      "8: [24678050, 24678051, 88593477]\n",
      "9: [146511208, 472335975, 534494836, 912985153]\n",
      "10: [4679307774]\n",
      "11: [32164049650, 32164049651, 40028394225, 42678290603, 44708635679, 49388550606, 82693916578, 94204591914]\n",
      "12: []\n",
      "13: []\n",
      "14: [28116440335967]\n",
      "15: []\n",
      "16: [4338281769391370, 4338281769391371]\n",
      "17: [21897142587612075, 35641594208964132, 35875699062250035]\n",
      "18: []\n",
      "19: [1517841543307505039, 3289582984443187032, 4498128791164624869, 4929273885928088826]\n",
      "20: [63105425988599693916]\n"
     ]
    }
   ],
   "source": [
    "for i in range(21):\n",
    "    MATCHES = getArmstrongNumbers(i)\n",
    "    print('{}: {}'.format(i, str(sorted(MATCHES))))"
   ]
  },
  {
   "cell_type": "code",
   "execution_count": null,
   "metadata": {
    "collapsed": true
   },
   "outputs": [],
   "source": []
  }
 ],
 "metadata": {
  "kernelspec": {
   "display_name": "Python 3",
   "language": "python",
   "name": "python3"
  }
 },
 "nbformat": 4,
 "nbformat_minor": 0
}
